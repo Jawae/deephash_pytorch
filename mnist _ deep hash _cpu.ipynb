{
 "cells": [
  {
   "cell_type": "code",
   "execution_count": 49,
   "metadata": {},
   "outputs": [],
   "source": [
    "%reload_ext autoreload\n",
    "%autoreload 2\n",
    "%matplotlib inline"
   ]
  },
  {
   "cell_type": "code",
   "execution_count": 50,
   "metadata": {},
   "outputs": [],
   "source": [
    "from numpy import genfromtxt\n",
    "from scipy.stats import multivariate_normal\n",
    "from sklearn.metrics import f1_score"
   ]
  },
  {
   "cell_type": "code",
   "execution_count": 51,
   "metadata": {},
   "outputs": [],
   "source": [
    "from fastai import *\n",
    "from fastai.vision import *\n",
    "from fastai.callbacks import *"
   ]
  },
  {
   "cell_type": "code",
   "execution_count": 52,
   "metadata": {},
   "outputs": [],
   "source": [
    "import fastai\n",
    "fastai.defaults.device = torch.device('cpu')"
   ]
  },
  {
   "cell_type": "code",
   "execution_count": 53,
   "metadata": {},
   "outputs": [],
   "source": [
    "from fastai.callbacks import *"
   ]
  },
  {
   "cell_type": "code",
   "execution_count": 54,
   "metadata": {},
   "outputs": [],
   "source": [
    "import myutils as my"
   ]
  },
  {
   "cell_type": "code",
   "execution_count": 55,
   "metadata": {},
   "outputs": [],
   "source": [
    "def create_head_sigmoid(nf:int, nc:int, lin_ftrs:Optional[Collection[int]]=None, ps:Floats=0.5):\n",
    "    \"\"\"Model head that takes `nf` features, runs through `lin_ftrs`, and about `nc` classes.\n",
    "    :param ps: dropout, can be a single float or a list for each layer.\"\"\"\n",
    "    lin_ftrs = [nf, 512, nc] if lin_ftrs is None else [nf] + lin_ftrs + [nc]\n",
    "    ps = listify(ps)\n",
    "    if len(ps)==1: ps = [ps[0]/2] * (len(lin_ftrs)-2) + ps\n",
    "    actns = [nn.Sigmoid()] * (len(lin_ftrs)-2) + [None]\n",
    "    layers = [AdaptiveConcatPool2d(), Flatten()]\n",
    "    for ni,no,p,actn in zip(lin_ftrs[:-1],lin_ftrs[1:],ps,actns):\n",
    "        layers += bn_drop_lin(ni,no,True,p,actn)\n",
    "    del(layers[-3])\n",
    "    return nn.Sequential(*layers)"
   ]
  },
  {
   "cell_type": "code",
   "execution_count": 56,
   "metadata": {},
   "outputs": [],
   "source": [
    "path = Path('data/mnist_png/')\n",
    "classes = list(range(8))\n",
    "head = create_head_sigmoid(1024,8,lin_ftrs=[128])"
   ]
  },
  {
   "cell_type": "code",
   "execution_count": 57,
   "metadata": {},
   "outputs": [],
   "source": [
    "tfms = get_transforms(do_flip=False)\n",
    "data2 = ImageDataBunch.single_from_classes(path, classes, tfms=tfms, size=26)"
   ]
  },
  {
   "cell_type": "code",
   "execution_count": 58,
   "metadata": {},
   "outputs": [],
   "source": [
    "learner = create_cnn(data2, models.resnet18, custom_head=head).load('test128')"
   ]
  },
  {
   "cell_type": "code",
   "execution_count": 59,
   "metadata": {
    "scrolled": true
   },
   "outputs": [
    {
     "data": {
      "text/plain": [
       "8"
      ]
     },
     "execution_count": 59,
     "metadata": {},
     "output_type": "execute_result"
    }
   ],
   "source": [
    "flatten_model(learner.model)[-1].out_features"
   ]
  },
  {
   "cell_type": "code",
   "execution_count": 60,
   "metadata": {},
   "outputs": [],
   "source": [
    "class StoreHook(Callback):\n",
    "    def __init__(self, module):\n",
    "        super().__init__()\n",
    "        self.custom_hook = hook_output(module)\n",
    "        self.outputs = []\n",
    "        \n",
    "    def on_batch_end(self, train, **kwargs): \n",
    "        if (not train): self.outputs.append(self.custom_hook.stored.numpy())"
   ]
  },
  {
   "cell_type": "code",
   "execution_count": 61,
   "metadata": {},
   "outputs": [],
   "source": [
    "nn_module = learner.model[-1][-3]\n",
    "learner.callbacks = [ StoreHook(nn_module) ]"
   ]
  },
  {
   "cell_type": "code",
   "execution_count": 62,
   "metadata": {},
   "outputs": [
    {
     "data": {
      "text/plain": [
       "Sequential(\n",
       "  (0): AdaptiveConcatPool2d(\n",
       "    (ap): AdaptiveAvgPool2d(output_size=1)\n",
       "    (mp): AdaptiveMaxPool2d(output_size=1)\n",
       "  )\n",
       "  (1): Lambda()\n",
       "  (2): BatchNorm1d(1024, eps=1e-05, momentum=0.1, affine=True, track_running_stats=True)\n",
       "  (3): Dropout(p=0.25)\n",
       "  (4): Linear(in_features=1024, out_features=128, bias=True)\n",
       "  (5): Sigmoid()\n",
       "  (6): Dropout(p=0.5)\n",
       "  (7): Linear(in_features=128, out_features=8, bias=True)\n",
       ")"
      ]
     },
     "execution_count": 62,
     "metadata": {},
     "output_type": "execute_result"
    }
   ],
   "source": [
    "head"
   ]
  },
  {
   "cell_type": "code",
   "execution_count": 63,
   "metadata": {},
   "outputs": [
    {
     "data": {
      "text/plain": [
       "Sigmoid()"
      ]
     },
     "execution_count": 63,
     "metadata": {},
     "output_type": "execute_result"
    }
   ],
   "source": [
    "nn_module"
   ]
  },
  {
   "cell_type": "code",
   "execution_count": 64,
   "metadata": {
    "scrolled": true
   },
   "outputs": [
    {
     "name": "stdout",
     "output_type": "stream",
     "text": [
      "data/mnist_png/9/22.png\n",
      "data/mnist_png/9/48.png\n",
      "data/mnist_png/9/4.png\n",
      "data/mnist_png/9/428.png\n",
      "data/mnist_png/9/15357.png\n",
      "data/mnist_png/9/14667.png\n",
      "data/mnist_png/9/14743.png\n",
      "data/mnist_png/9/764.png\n",
      "data/mnist_png/9/14443.png\n",
      "data/mnist_png/9/14580.png\n",
      "data/mnist_png/9/78.png\n",
      "data/mnist_png/9/14364.png\n",
      "data/mnist_png/9/14607.png\n",
      "data/mnist_png/9/33.png\n",
      "data/mnist_png/9/116.png\n",
      "data/mnist_png/9/14336.png\n",
      "data/mnist_png/9/800.png\n",
      "data/mnist_png/9/15541.png\n",
      "data/mnist_png/9/14735.png\n",
      "data/mnist_png/9/15592.png\n",
      "data/mnist_png/9/601.png\n",
      "data/mnist_png/9/14680.png\n",
      "data/mnist_png/9/176.png\n",
      "data/mnist_png/9/15128.png\n",
      "data/mnist_png/9/227.png\n",
      "data/mnist_png/9/15560.png\n",
      "data/mnist_png/9/14341.png\n",
      "data/mnist_png/9/15089.png\n",
      "data/mnist_png/9/15360.png\n",
      "data/mnist_png/9/14662.png\n",
      "data/mnist_png/9/15395.png\n",
      "data/mnist_png/9/15381.png\n",
      "data/mnist_png/9/14922.png\n",
      "data/mnist_png/9/15302.png\n",
      "data/mnist_png/9/383.png\n",
      "data/mnist_png/9/15562.png\n",
      "data/mnist_png/9/14984.png\n",
      "data/mnist_png/9/282.png\n",
      "data/mnist_png/9/520.png\n",
      "data/mnist_png/9/15244.png\n",
      "data/mnist_png/9/15725.png\n",
      "data/mnist_png/9/154.png\n",
      "data/mnist_png/9/14436.png\n",
      "data/mnist_png/9/267.png\n",
      "data/mnist_png/9/14331.png\n",
      "data/mnist_png/9/15165.png\n",
      "data/mnist_png/9/153.png\n",
      "data/mnist_png/9/471.png\n",
      "data/mnist_png/9/14716.png\n",
      "data/mnist_png/9/15553.png\n",
      "data/mnist_png/9/14442.png\n",
      "data/mnist_png/9/15029.png\n",
      "data/mnist_png/9/727.png\n",
      "data/mnist_png/9/14884.png\n",
      "data/mnist_png/9/14681.png\n",
      "data/mnist_png/9/362.png\n",
      "data/mnist_png/9/482.png\n",
      "data/mnist_png/9/15194.png\n",
      "data/mnist_png/9/15709.png\n",
      "data/mnist_png/9/589.png\n",
      "data/mnist_png/9/423.png\n",
      "data/mnist_png/9/14842.png\n",
      "data/mnist_png/9/15146.png\n",
      "data/mnist_png/9/15326.png\n",
      "data/mnist_png/9/14886.png\n",
      "data/mnist_png/9/460.png\n",
      "data/mnist_png/9/15693.png\n",
      "data/mnist_png/9/14434.png\n",
      "data/mnist_png/9/15063.png\n",
      "data/mnist_png/9/15131.png\n",
      "data/mnist_png/9/15049.png\n",
      "data/mnist_png/9/319.png\n",
      "data/mnist_png/9/14790.png\n",
      "data/mnist_png/9/15112.png\n",
      "data/mnist_png/9/826.png\n",
      "data/mnist_png/9/15607.png\n",
      "data/mnist_png/9/15657.png\n",
      "data/mnist_png/9/15167.png\n",
      "data/mnist_png/9/424.png\n",
      "data/mnist_png/9/621.png\n",
      "data/mnist_png/9/14787.png\n",
      "data/mnist_png/9/14358.png\n",
      "data/mnist_png/9/14943.png\n",
      "data/mnist_png/9/580.png\n",
      "data/mnist_png/9/14985.png\n",
      "data/mnist_png/9/58.png\n",
      "data/mnist_png/9/550.png\n",
      "data/mnist_png/9/793.png\n",
      "data/mnist_png/9/226.png\n",
      "data/mnist_png/9/313.png\n",
      "data/mnist_png/9/827.png\n",
      "data/mnist_png/9/14822.png\n",
      "data/mnist_png/9/741.png\n",
      "data/mnist_png/9/15195.png\n",
      "data/mnist_png/9/15323.png\n",
      "data/mnist_png/9/14696.png\n",
      "data/mnist_png/9/15212.png\n",
      "data/mnist_png/9/14497.png\n",
      "data/mnist_png/9/350.png\n",
      "data/mnist_png/9/15349.png\n",
      "data/mnist_png/9/57.png\n",
      "data/mnist_png/9/12.png\n",
      "data/mnist_png/9/600.png\n",
      "data/mnist_png/9/15584.png\n",
      "data/mnist_png/9/15745.png\n",
      "data/mnist_png/9/15741.png\n",
      "data/mnist_png/9/15489.png\n",
      "data/mnist_png/9/9.png\n",
      "data/mnist_png/9/14934.png\n",
      "data/mnist_png/9/14579.png\n",
      "data/mnist_png/9/15659.png\n",
      "data/mnist_png/9/14780.png\n",
      "data/mnist_png/9/20.png\n",
      "data/mnist_png/9/15413.png\n",
      "data/mnist_png/9/346.png\n",
      "data/mnist_png/9/15117.png\n",
      "data/mnist_png/9/14796.png\n",
      "data/mnist_png/9/15162.png\n",
      "data/mnist_png/9/687.png\n",
      "data/mnist_png/9/15517.png\n",
      "data/mnist_png/9/344.png\n",
      "data/mnist_png/9/15124.png\n",
      "data/mnist_png/9/14915.png\n",
      "data/mnist_png/9/15602.png\n",
      "data/mnist_png/9/14627.png\n",
      "data/mnist_png/9/15666.png\n",
      "data/mnist_png/9/15512.png\n",
      "data/mnist_png/9/14332.png\n",
      "data/mnist_png/9/14815.png\n",
      "data/mnist_png/9/110.png\n",
      "data/mnist_png/9/15601.png\n",
      "data/mnist_png/9/14888.png\n",
      "data/mnist_png/9/15593.png\n",
      "data/mnist_png/9/14502.png\n",
      "data/mnist_png/9/15171.png\n",
      "data/mnist_png/9/15079.png\n",
      "data/mnist_png/9/80.png\n",
      "data/mnist_png/9/755.png\n",
      "data/mnist_png/9/772.png\n",
      "data/mnist_png/9/641.png\n",
      "data/mnist_png/9/45.png\n",
      "data/mnist_png/9/364.png\n",
      "data/mnist_png/9/15253.png\n",
      "data/mnist_png/9/626.png\n",
      "data/mnist_png/9/14844.png\n",
      "data/mnist_png/9/15235.png\n",
      "data/mnist_png/9/441.png\n",
      "data/mnist_png/9/285.png\n",
      "data/mnist_png/9/15433.png\n",
      "data/mnist_png/9/14950.png\n",
      "data/mnist_png/9/14974.png\n",
      "data/mnist_png/9/487.png\n",
      "data/mnist_png/9/14816.png\n",
      "data/mnist_png/9/14827.png\n",
      "data/mnist_png/9/704.png\n",
      "data/mnist_png/9/14843.png\n",
      "data/mnist_png/9/15312.png\n",
      "data/mnist_png/9/162.png\n",
      "data/mnist_png/9/14582.png\n",
      "data/mnist_png/9/14925.png\n",
      "data/mnist_png/9/15072.png\n",
      "data/mnist_png/9/14988.png\n",
      "data/mnist_png/9/14554.png\n",
      "data/mnist_png/9/19.png\n",
      "data/mnist_png/9/195.png\n",
      "data/mnist_png/9/15609.png\n",
      "data/mnist_png/9/14982.png\n",
      "data/mnist_png/9/15369.png\n",
      "data/mnist_png/9/525.png\n",
      "data/mnist_png/9/434.png\n",
      "data/mnist_png/9/280.png\n",
      "data/mnist_png/9/529.png\n",
      "data/mnist_png/9/595.png\n",
      "data/mnist_png/9/763.png\n",
      "data/mnist_png/9/15309.png\n",
      "data/mnist_png/9/15268.png\n",
      "data/mnist_png/9/409.png\n",
      "data/mnist_png/9/389.png\n",
      "data/mnist_png/9/14568.png\n",
      "data/mnist_png/9/14928.png\n",
      "data/mnist_png/9/631.png\n",
      "data/mnist_png/9/806.png\n",
      "data/mnist_png/9/15644.png\n",
      "data/mnist_png/9/14687.png\n",
      "data/mnist_png/9/247.png\n",
      "data/mnist_png/9/14365.png\n",
      "data/mnist_png/9/167.png\n",
      "data/mnist_png/9/14699.png\n",
      "data/mnist_png/9/43.png\n",
      "data/mnist_png/9/14409.png\n",
      "data/mnist_png/9/73.png\n",
      "data/mnist_png/9/744.png\n",
      "data/mnist_png/9/15654.png\n",
      "data/mnist_png/9/14977.png\n",
      "data/mnist_png/9/15151.png\n",
      "data/mnist_png/9/812.png\n",
      "data/mnist_png/9/14726.png\n",
      "data/mnist_png/9/788.png\n",
      "data/mnist_png/9/14479.png\n",
      "data/mnist_png/9/87.png\n",
      "data/mnist_png/9/15503.png\n",
      "data/mnist_png/9/15728.png\n",
      "data/mnist_png/9/14956.png\n",
      "data/mnist_png/9/16.png\n",
      "data/mnist_png/9/583.png\n",
      "data/mnist_png/9/14407.png\n",
      "data/mnist_png/9/566.png\n",
      "data/mnist_png/9/54.png\n",
      "data/mnist_png/9/183.png\n",
      "data/mnist_png/9/15446.png\n",
      "data/mnist_png/9/14931.png\n",
      "data/mnist_png/9/304.png\n",
      "data/mnist_png/9/14744.png\n",
      "data/mnist_png/9/15658.png\n",
      "data/mnist_png/9/14818.png\n",
      "data/mnist_png/9/15414.png\n",
      "data/mnist_png/9/14895.png\n",
      "data/mnist_png/9/15018.png\n",
      "data/mnist_png/9/334.png\n",
      "data/mnist_png/9/419.png\n",
      "data/mnist_png/9/172.png\n",
      "data/mnist_png/9/822.png\n",
      "data/mnist_png/9/14762.png\n",
      "data/mnist_png/9/501.png\n",
      "data/mnist_png/9/14647.png\n",
      "data/mnist_png/9/62.png\n",
      "data/mnist_png/9/15653.png\n",
      "data/mnist_png/9/14504.png\n",
      "data/mnist_png/9/15354.png\n",
      "data/mnist_png/9/7.png\n",
      "data/mnist_png/9/15498.png\n",
      "data/mnist_png/9/264.png\n",
      "data/mnist_png/9/170.png\n",
      "data/mnist_png/9/15387.png\n",
      "data/mnist_png/9/15222.png\n",
      "data/mnist_png/9/15239.png\n",
      "data/mnist_png/9/782.png\n",
      "data/mnist_png/9/322.png\n",
      "data/mnist_png/9/14459.png\n",
      "data/mnist_png/9/15670.png\n",
      "data/mnist_png/9/707.png\n",
      "data/mnist_png/9/15170.png\n",
      "data/mnist_png/9/15746.png\n",
      "data/mnist_png/9/14547.png\n",
      "data/mnist_png/9/133.png\n",
      "data/mnist_png/9/14875.png\n",
      "data/mnist_png/9/15367.png\n",
      "data/mnist_png/9/14493.png\n",
      "data/mnist_png/9/374.png\n"
     ]
    }
   ],
   "source": [
    "for i in (path/'9').iterdir():\n",
    "    print(i)"
   ]
  },
  {
   "cell_type": "code",
   "execution_count": 65,
   "metadata": {
    "scrolled": true
   },
   "outputs": [],
   "source": [
    "def convert_np(arr):\n",
    "    size = arr[0].shape[1]\n",
    "    ref = np.array([], dtype=np.int64).reshape(0,size)\n",
    "    for row in arr:\n",
    "        ref = np.vstack([ref, row])\n",
    "    return ref"
   ]
  },
  {
   "cell_type": "code",
   "execution_count": 66,
   "metadata": {},
   "outputs": [],
   "source": [
    "def run_folder(path, Learner):\n",
    "    for i in (path).iterdir():\n",
    "        print(i)\n",
    "        Learner.predict(open_image(i))"
   ]
  },
  {
   "cell_type": "code",
   "execution_count": 67,
   "metadata": {},
   "outputs": [],
   "source": [
    "def estimateGaussian(dataset):\n",
    "    mu = np.mean(dataset, axis=0)\n",
    "    sigma = np.cov(dataset.T)\n",
    "    return mu, sigma"
   ]
  },
  {
   "cell_type": "code",
   "execution_count": 68,
   "metadata": {},
   "outputs": [],
   "source": [
    "def multivariateGaussian(dataset,mu,sigma):\n",
    "    p = multivariate_normal(mean=mu, cov=sigma)\n",
    "    return np.log(p.pdf(dataset))"
   ]
  },
  {
   "cell_type": "code",
   "execution_count": 69,
   "metadata": {},
   "outputs": [],
   "source": [
    "def selectThresholdByCV(probs,gt):\n",
    "    set_trace()\n",
    "    best_epsilon = 0\n",
    "    best_f1 = 0\n",
    "    f = 0\n",
    "    stepsize = (max(probs) - min(probs)) / 1000;\n",
    "    epsilons = np.arange(min(probs),max(probs),stepsize)\n",
    "    for epsilon in np.nditer(epsilons):\n",
    "        predictions = (probs < epsilon)\n",
    "        f = f1_score(gt, predictions, average = \"binary\")\n",
    "        if f > best_f1:\n",
    "            best_f1 = f\n",
    "            best_epsilon = epsilon\n",
    "    return best_f1, best_epsilon"
   ]
  },
  {
   "cell_type": "code",
   "execution_count": 70,
   "metadata": {},
   "outputs": [],
   "source": [
    "def get_lst_folder(folder):\n",
    "    lst_9cv = list((path/folder).iterdir())\n",
    "    gt = [1]*len(lst_9cv)\n",
    "    return lst_9cv, gt"
   ]
  },
  {
   "cell_type": "code",
   "execution_count": 71,
   "metadata": {
    "scrolled": true
   },
   "outputs": [],
   "source": [
    "fraud_cls = ['0','1','2','3','4','5','6','7','8']"
   ]
  },
  {
   "cell_type": "code",
   "execution_count": 72,
   "metadata": {},
   "outputs": [],
   "source": [
    "def run_folder(path, Learner):\n",
    "    for i in (path).iterdir():\n",
    "        Learner.predict(open_image(i))"
   ]
  },
  {
   "cell_type": "code",
   "execution_count": 73,
   "metadata": {},
   "outputs": [],
   "source": [
    "def run_lst(lst, Learner):\n",
    "    for i in lst:\n",
    "        Learner.predict(open_image(i))"
   ]
  },
  {
   "cell_type": "code",
   "execution_count": 74,
   "metadata": {},
   "outputs": [],
   "source": [
    "def get_lst_cls(cv_cls, nb = 2):\n",
    "    lst_fr = []\n",
    "    gt = []\n",
    "    for cls in cv_cls:\n",
    "        folder = (path/cls).iterdir()\n",
    "        for i in range(nb):\n",
    "            lst_fr.append(next(folder))\n",
    "    gt = [0]*len(lst_fr)\n",
    "    return lst_fr, gt\n",
    "        "
   ]
  },
  {
   "cell_type": "code",
   "execution_count": 75,
   "metadata": {},
   "outputs": [],
   "source": [
    "learner.callbacks[0].outputs = []\n",
    "run_folder(path/'9', learner)\n",
    "ref = convert_np(learner.callbacks[0].outputs)"
   ]
  },
  {
   "cell_type": "code",
   "execution_count": 76,
   "metadata": {},
   "outputs": [],
   "source": [
    "mu, sigma = estimateGaussian(ref)\n",
    "p = multivariateGaussian(ref,mu,sigma)\n"
   ]
  },
  {
   "cell_type": "code",
   "execution_count": 77,
   "metadata": {},
   "outputs": [
    {
     "data": {
      "text/plain": [
       "208.20734995331932"
      ]
     },
     "execution_count": 77,
     "metadata": {},
     "output_type": "execute_result"
    }
   ],
   "source": [
    "np.mean(p)"
   ]
  },
  {
   "cell_type": "code",
   "execution_count": 89,
   "metadata": {},
   "outputs": [
    {
     "name": "stdout",
     "output_type": "stream",
     "text": [
      "Mean: -74.03641732008869\n",
      "Min: -577.9796300634257 Max: 126.28742355517446\n"
     ]
    },
    {
     "data": {
      "text/plain": [
       "Text(0.5,1,'Histogram')"
      ]
     },
     "execution_count": 89,
     "metadata": {},
     "output_type": "execute_result"
    },
    {
     "data": {
      "image/png": "[encoded data removed]",
      "text/plain": [
       "<matplotlib.figure.Figure at 0x7fed9e62e7b8>"
      ]
     },
     "metadata": {},
     "output_type": "display_data"
    }
   ],
   "source": [
    "learner.callbacks[0].outputs = []\n",
    "run_folder(path/'7', learner)\n",
    "ref_fraud = convert_np(learner.callbacks[0].outputs)\n",
    "p_fr = multivariateGaussian(ref_fraud,mu,sigma)\n",
    "print('Mean: ' + str(np.mean(p_fr)))\n",
    "print('Min: ' + str(min(p_fr)) + ' Max: ' + str(max(p_fr)))\n",
    "pd.DataFrame(p_fr).hist(figsize=(4,6), bins=20);\n",
    "plt.title('Histogram')"
   ]
  },
  {
   "cell_type": "code",
   "execution_count": 92,
   "metadata": {},
   "outputs": [
    {
     "data": {
      "text/plain": [
       "array([  27.281047,    6.663944,  221.086625,  203.334476,  204.530992,  186.217571,  104.086783,  195.818645,\n",
       "       -359.858034,    9.330117,  127.373503,  127.694818, -377.558826,   41.449965,  231.983258,  179.755308,\n",
       "        -10.747576, -107.443529,  176.383797,  206.172116,  206.250682, -161.254825,   85.531938,  208.677114,\n",
       "        173.531244,  222.332594,  172.103537, -441.635038,  139.798238,  118.047392,  216.09183 ,   47.037239,\n",
       "        131.93425 ,  156.705587,   -4.539612,   26.622492,  109.605973,  117.494171,        -inf, -363.872647])"
      ]
     },
     "execution_count": 92,
     "metadata": {},
     "output_type": "execute_result"
    }
   ],
   "source": [
    "p_fr"
   ]
  },
  {
   "cell_type": "code",
   "execution_count": 93,
   "metadata": {},
   "outputs": [
    {
     "name": "stdout",
     "output_type": "stream",
     "text": [
      "208.20734995331932\n",
      "153.84419495104507 254.7009888101207\n"
     ]
    },
    {
     "data": {
      "image/png": "[encoded data removed]",
      "text/plain": [
       "<matplotlib.figure.Figure at 0x7fed9e572128>"
      ]
     },
     "metadata": {},
     "output_type": "display_data"
    }
   ],
   "source": [
    "learner.callbacks[0].outputs = []\n",
    "run_folder(path/'9', learner)\n",
    "ref_fraud = convert_np(learner.callbacks[0].outputs)\n",
    "p_fr = multivariateGaussian(ref_fraud,mu,sigma)\n",
    "print(np.mean(p_fr))\n",
    "print(min(p_fr),max(p_fr))\n",
    "\n",
    "pd.DataFrame(p_fr).hist(stacked=False,figsize=(4,6), bins=20);"
   ]
  },
  {
   "cell_type": "code",
   "execution_count": null,
   "metadata": {},
   "outputs": [],
   "source": []
  }
 ],
 "metadata": {
  "kernelspec": {
   "display_name": "Python 3",
   "language": "python",
   "name": "python3"
  },
  "language_info": {
   "codemirror_mode": {
    "name": "ipython",
    "version": 3
   },
   "file_extension": ".py",
   "mimetype": "text/x-python",
   "name": "python",
   "nbconvert_exporter": "python",
   "pygments_lexer": "ipython3",
   "version": "3.6.4"
  }
 },
 "nbformat": 4,
 "nbformat_minor": 2
}
