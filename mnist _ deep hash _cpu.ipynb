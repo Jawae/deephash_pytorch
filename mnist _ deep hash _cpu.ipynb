{
 "cells": [
  {
   "cell_type": "code",
   "execution_count": 1,
   "metadata": {},
   "outputs": [],
   "source": [
    "%reload_ext autoreload\n",
    "%autoreload 2\n",
    "%matplotlib inline"
   ]
  },
  {
   "cell_type": "code",
   "execution_count": 37,
   "metadata": {},
   "outputs": [],
   "source": [
    "from numpy import genfromtxt\n",
    "from scipy.stats import multivariate_normal\n",
    "from sklearn.metrics import f1_score"
   ]
  },
  {
   "cell_type": "code",
   "execution_count": 2,
   "metadata": {},
   "outputs": [],
   "source": [
    "from fastai import *\n",
    "from fastai.vision import *\n",
    "from fastai.callbacks import *"
   ]
  },
  {
   "cell_type": "code",
   "execution_count": 3,
   "metadata": {},
   "outputs": [],
   "source": [
    "import fastai\n",
    "fastai.defaults.device = torch.device('cpu')"
   ]
  },
  {
   "cell_type": "code",
   "execution_count": 4,
   "metadata": {},
   "outputs": [],
   "source": [
    "from fastai.callbacks import *"
   ]
  },
  {
   "cell_type": "code",
   "execution_count": 5,
   "metadata": {},
   "outputs": [],
   "source": [
    "import myutils as my"
   ]
  },
  {
   "cell_type": "code",
   "execution_count": 6,
   "metadata": {},
   "outputs": [],
   "source": [
    "def create_head_sigmoid(nf:int, nc:int, lin_ftrs:Optional[Collection[int]]=None, ps:Floats=0.5):\n",
    "    \"\"\"Model head that takes `nf` features, runs through `lin_ftrs`, and about `nc` classes.\n",
    "    :param ps: dropout, can be a single float or a list for each layer.\"\"\"\n",
    "    lin_ftrs = [nf, 512, nc] if lin_ftrs is None else [nf] + lin_ftrs + [nc]\n",
    "    ps = listify(ps)\n",
    "    if len(ps)==1: ps = [ps[0]/2] * (len(lin_ftrs)-2) + ps\n",
    "    actns = [nn.Sigmoid()] * (len(lin_ftrs)-2) + [None]\n",
    "    layers = [AdaptiveConcatPool2d(), Flatten()]\n",
    "    for ni,no,p,actn in zip(lin_ftrs[:-1],lin_ftrs[1:],ps,actns):\n",
    "        layers += bn_drop_lin(ni,no,True,p,actn)\n",
    "    del(layers[-3])\n",
    "    return nn.Sequential(*layers)"
   ]
  },
  {
   "cell_type": "code",
   "execution_count": 7,
   "metadata": {},
   "outputs": [],
   "source": [
    "path = Path('data/mnist_png/')\n",
    "classes = list(range(8))\n",
    "head = create_head_sigmoid(1024,8,lin_ftrs=[48])"
   ]
  },
  {
   "cell_type": "code",
   "execution_count": 8,
   "metadata": {},
   "outputs": [],
   "source": [
    "tfms = get_transforms(do_flip=False)\n",
    "data2 = ImageDataBunch.single_from_classes(path, classes, tfms=tfms, size=26)"
   ]
  },
  {
   "cell_type": "code",
   "execution_count": 9,
   "metadata": {},
   "outputs": [],
   "source": [
    "learner = create_cnn(data2, models.resnet18, custom_head=head).load('test')"
   ]
  },
  {
   "cell_type": "code",
   "execution_count": 10,
   "metadata": {
    "scrolled": true
   },
   "outputs": [
    {
     "data": {
      "text/plain": [
       "8"
      ]
     },
     "execution_count": 10,
     "metadata": {},
     "output_type": "execute_result"
    }
   ],
   "source": [
    "flatten_model(learner.model)[-1].out_features"
   ]
  },
  {
   "cell_type": "code",
   "execution_count": 11,
   "metadata": {},
   "outputs": [],
   "source": [
    "class StoreHook(Callback):\n",
    "    def __init__(self, module):\n",
    "        super().__init__()\n",
    "        self.custom_hook = hook_output(module)\n",
    "        self.outputs = []\n",
    "        \n",
    "    def on_batch_end(self, train, **kwargs): \n",
    "        if (not train): self.outputs.append(self.custom_hook.stored.numpy())"
   ]
  },
  {
   "cell_type": "code",
   "execution_count": 12,
   "metadata": {},
   "outputs": [],
   "source": [
    "nn_module = learner.model[-1][-3]\n",
    "learner.callbacks = [ StoreHook(nn_module) ]"
   ]
  },
  {
   "cell_type": "code",
   "execution_count": 13,
   "metadata": {},
   "outputs": [
    {
     "data": {
      "text/plain": [
       "Sequential(\n",
       "  (0): AdaptiveConcatPool2d(\n",
       "    (ap): AdaptiveAvgPool2d(output_size=1)\n",
       "    (mp): AdaptiveMaxPool2d(output_size=1)\n",
       "  )\n",
       "  (1): Lambda()\n",
       "  (2): BatchNorm1d(1024, eps=1e-05, momentum=0.1, affine=True, track_running_stats=True)\n",
       "  (3): Dropout(p=0.25)\n",
       "  (4): Linear(in_features=1024, out_features=48, bias=True)\n",
       "  (5): Sigmoid()\n",
       "  (6): Dropout(p=0.5)\n",
       "  (7): Linear(in_features=48, out_features=8, bias=True)\n",
       ")"
      ]
     },
     "execution_count": 13,
     "metadata": {},
     "output_type": "execute_result"
    }
   ],
   "source": [
    "head"
   ]
  },
  {
   "cell_type": "code",
   "execution_count": 14,
   "metadata": {},
   "outputs": [
    {
     "data": {
      "text/plain": [
       "Sigmoid()"
      ]
     },
     "execution_count": 14,
     "metadata": {},
     "output_type": "execute_result"
    }
   ],
   "source": [
    "nn_module"
   ]
  },
  {
   "cell_type": "code",
   "execution_count": 15,
   "metadata": {
    "scrolled": true
   },
   "outputs": [
    {
     "name": "stdout",
     "output_type": "stream",
     "text": [
      "data/mnist_png/9/22.png\n",
      "data/mnist_png/9/48.png\n",
      "data/mnist_png/9/4.png\n",
      "data/mnist_png/9/428.png\n",
      "data/mnist_png/9/764.png\n",
      "data/mnist_png/9/78.png\n",
      "data/mnist_png/9/33.png\n",
      "data/mnist_png/9/116.png\n",
      "data/mnist_png/9/800.png\n",
      "data/mnist_png/9/601.png\n",
      "data/mnist_png/9/176.png\n",
      "data/mnist_png/9/227.png\n",
      "data/mnist_png/9/383.png\n",
      "data/mnist_png/9/282.png\n",
      "data/mnist_png/9/520.png\n",
      "data/mnist_png/9/154.png\n",
      "data/mnist_png/9/267.png\n",
      "data/mnist_png/9/153.png\n",
      "data/mnist_png/9/471.png\n",
      "data/mnist_png/9/727.png\n",
      "data/mnist_png/9/362.png\n",
      "data/mnist_png/9/482.png\n",
      "data/mnist_png/9/589.png\n",
      "data/mnist_png/9/423.png\n",
      "data/mnist_png/9/460.png\n",
      "data/mnist_png/9/319.png\n",
      "data/mnist_png/9/826.png\n",
      "data/mnist_png/9/424.png\n",
      "data/mnist_png/9/621.png\n",
      "data/mnist_png/9/580.png\n",
      "data/mnist_png/9/58.png\n",
      "data/mnist_png/9/550.png\n",
      "data/mnist_png/9/793.png\n",
      "data/mnist_png/9/226.png\n",
      "data/mnist_png/9/313.png\n",
      "data/mnist_png/9/827.png\n",
      "data/mnist_png/9/741.png\n",
      "data/mnist_png/9/350.png\n",
      "data/mnist_png/9/57.png\n",
      "data/mnist_png/9/12.png\n",
      "data/mnist_png/9/600.png\n",
      "data/mnist_png/9/9.png\n",
      "data/mnist_png/9/20.png\n",
      "data/mnist_png/9/346.png\n",
      "data/mnist_png/9/687.png\n",
      "data/mnist_png/9/344.png\n",
      "data/mnist_png/9/110.png\n",
      "data/mnist_png/9/80.png\n",
      "data/mnist_png/9/755.png\n",
      "data/mnist_png/9/772.png\n",
      "data/mnist_png/9/641.png\n",
      "data/mnist_png/9/45.png\n",
      "data/mnist_png/9/364.png\n",
      "data/mnist_png/9/626.png\n",
      "data/mnist_png/9/441.png\n",
      "data/mnist_png/9/285.png\n",
      "data/mnist_png/9/487.png\n",
      "data/mnist_png/9/704.png\n",
      "data/mnist_png/9/162.png\n",
      "data/mnist_png/9/19.png\n",
      "data/mnist_png/9/195.png\n",
      "data/mnist_png/9/525.png\n",
      "data/mnist_png/9/434.png\n",
      "data/mnist_png/9/280.png\n",
      "data/mnist_png/9/529.png\n",
      "data/mnist_png/9/595.png\n",
      "data/mnist_png/9/763.png\n",
      "data/mnist_png/9/409.png\n",
      "data/mnist_png/9/389.png\n",
      "data/mnist_png/9/631.png\n",
      "data/mnist_png/9/806.png\n",
      "data/mnist_png/9/247.png\n",
      "data/mnist_png/9/167.png\n",
      "data/mnist_png/9/43.png\n",
      "data/mnist_png/9/73.png\n",
      "data/mnist_png/9/744.png\n",
      "data/mnist_png/9/812.png\n",
      "data/mnist_png/9/788.png\n",
      "data/mnist_png/9/87.png\n",
      "data/mnist_png/9/16.png\n",
      "data/mnist_png/9/583.png\n",
      "data/mnist_png/9/566.png\n",
      "data/mnist_png/9/54.png\n",
      "data/mnist_png/9/183.png\n",
      "data/mnist_png/9/304.png\n",
      "data/mnist_png/9/334.png\n",
      "data/mnist_png/9/419.png\n",
      "data/mnist_png/9/172.png\n",
      "data/mnist_png/9/822.png\n",
      "data/mnist_png/9/501.png\n",
      "data/mnist_png/9/62.png\n",
      "data/mnist_png/9/7.png\n",
      "data/mnist_png/9/264.png\n",
      "data/mnist_png/9/170.png\n",
      "data/mnist_png/9/782.png\n",
      "data/mnist_png/9/322.png\n",
      "data/mnist_png/9/707.png\n",
      "data/mnist_png/9/133.png\n",
      "data/mnist_png/9/374.png\n"
     ]
    }
   ],
   "source": [
    "for i in (path/'9').iterdir():\n",
    "    print(i)"
   ]
  },
  {
   "cell_type": "code",
   "execution_count": 16,
   "metadata": {},
   "outputs": [],
   "source": [
    "learner.callbacks[0].outputs = []\n",
    "my.run_folder(path/'9', learner)"
   ]
  },
  {
   "cell_type": "code",
   "execution_count": 17,
   "metadata": {},
   "outputs": [],
   "source": [
    "test = learner.callbacks[0].outputs"
   ]
  },
  {
   "cell_type": "code",
   "execution_count": 18,
   "metadata": {
    "scrolled": true
   },
   "outputs": [],
   "source": [
    "ref = np.array([], dtype=np.int64).reshape(0,48)\n",
    "for row in test:\n",
    "    ref = np.vstack([ref, row])\n",
    "    "
   ]
  },
  {
   "cell_type": "code",
   "execution_count": 28,
   "metadata": {},
   "outputs": [],
   "source": [
    "def estimateGaussian(dataset):\n",
    "    mu = np.mean(dataset, axis=0)\n",
    "    sigma = np.cov(dataset.T)\n",
    "    return mu, sigma"
   ]
  },
  {
   "cell_type": "code",
   "execution_count": 30,
   "metadata": {},
   "outputs": [],
   "source": [
    "mu, sigma = estimateGaussian(ref)"
   ]
  },
  {
   "cell_type": "code",
   "execution_count": null,
   "metadata": {},
   "outputs": [],
   "source": [
    ".hist(stacked=False, bins=100, figsize=(12,30), layout=(14,2));"
   ]
  },
  {
   "cell_type": "code",
   "execution_count": 55,
   "metadata": {
    "scrolled": true
   },
   "outputs": [
    {
     "data": {
      "image/png": "[encoded data removed]",
      "text/plain": [
       "<matplotlib.figure.Figure at 0x7f2eb04235f8>"
      ]
     },
     "metadata": {},
     "output_type": "display_data"
    }
   ],
   "source": [
    "pd.DataFrame(ref).hist(stacked=False,figsize=(12,30), bins=20);"
   ]
  },
  {
   "cell_type": "code",
   "execution_count": 56,
   "metadata": {},
   "outputs": [
    {
     "data": {
      "image/png": "[encoded data removed]",
      "text/plain": [
       "<matplotlib.figure.Figure at 0x7f2e9321ba20>"
      ]
     },
     "metadata": {},
     "output_type": "display_data"
    }
   ],
   "source": [
    "plt.matshow(pd.DataFrame(ref).corr());\n"
   ]
  },
  {
   "cell_type": "code",
   "execution_count": 35,
   "metadata": {},
   "outputs": [],
   "source": [
    "def multivariateGaussian(dataset,mu,sigma):\n",
    "    p = multivariate_normal(mean=mu, cov=sigma)\n",
    "    return p.pdf(dataset)"
   ]
  },
  {
   "cell_type": "code",
   "execution_count": 38,
   "metadata": {},
   "outputs": [],
   "source": [
    "p = multivariateGaussian(ref,mu,sigma)"
   ]
  },
  {
   "cell_type": "code",
   "execution_count": 44,
   "metadata": {},
   "outputs": [
    {
     "data": {
      "text/plain": [
       "(1.0168696785731582e+39, 1.2083553373869706e+21)"
      ]
     },
     "execution_count": 44,
     "metadata": {},
     "output_type": "execute_result"
    }
   ],
   "source": [
    "max(p), min(p)"
   ]
  },
  {
   "cell_type": "code",
   "execution_count": 196,
   "metadata": {},
   "outputs": [],
   "source": [
    "def selectThresholdByCV(probs,gt):\n",
    "    set_trace()\n",
    "    best_epsilon = 0\n",
    "    best_f1 = 0\n",
    "    f = 0\n",
    "    stepsize = (max(probs) - min(probs)) / 1000;\n",
    "    epsilons = np.arange(min(probs),max(probs),stepsize)\n",
    "    for epsilon in np.nditer(epsilons):\n",
    "        predictions = (probs < epsilon)\n",
    "        f = f1_score(gt, predictions, average = \"binary\")\n",
    "        if f > best_f1:\n",
    "            best_f1 = f\n",
    "            best_epsilon = epsilon\n",
    "    return best_f1, best_epsilon"
   ]
  },
  {
   "cell_type": "code",
   "execution_count": 120,
   "metadata": {
    "scrolled": true
   },
   "outputs": [],
   "source": [
    "lst_9cv = list((path/'9cv').iterdir())"
   ]
  },
  {
   "cell_type": "code",
   "execution_count": 124,
   "metadata": {
    "scrolled": true
   },
   "outputs": [
    {
     "data": {
      "text/plain": [
       "[PosixPath('data/mnist_png/9cv/616.png'),\n",
       " PosixPath('data/mnist_png/9cv/417.png'),\n",
       " PosixPath('data/mnist_png/9cv/560.png'),\n",
       " PosixPath('data/mnist_png/9cv/471.png'),\n",
       " PosixPath('data/mnist_png/9cv/634.png'),\n",
       " PosixPath('data/mnist_png/9cv/281.png'),\n",
       " PosixPath('data/mnist_png/9cv/593.png'),\n",
       " PosixPath('data/mnist_png/9cv/558.png'),\n",
       " PosixPath('data/mnist_png/9cv/630.png'),\n",
       " PosixPath('data/mnist_png/9cv/320.png'),\n",
       " PosixPath('data/mnist_png/9cv/521.png'),\n",
       " PosixPath('data/mnist_png/9cv/627.png'),\n",
       " PosixPath('data/mnist_png/9cv/562.png'),\n",
       " PosixPath('data/mnist_png/9cv/488.png'),\n",
       " PosixPath('data/mnist_png/9cv/426.png'),\n",
       " PosixPath('data/mnist_png/9cv/394.png'),\n",
       " PosixPath('data/mnist_png/9cv/336.png'),\n",
       " PosixPath('data/mnist_png/9cv/530.png'),\n",
       " PosixPath('data/mnist_png/9cv/487.png'),\n",
       " PosixPath('data/mnist_png/9cv/662.png'),\n",
       " PosixPath('data/mnist_png/9cv/639.png'),\n",
       " PosixPath('data/mnist_png/9cv/274.png'),\n",
       " PosixPath('data/mnist_png/9cv/434.png'),\n",
       " PosixPath('data/mnist_png/9cv/389.png'),\n",
       " PosixPath('data/mnist_png/9cv/575.png'),\n",
       " PosixPath('data/mnist_png/9cv/454.png'),\n",
       " PosixPath('data/mnist_png/9cv/315.png'),\n",
       " PosixPath('data/mnist_png/9cv/359.png'),\n",
       " PosixPath('data/mnist_png/9cv/422.png'),\n",
       " PosixPath('data/mnist_png/9cv/481.png'),\n",
       " PosixPath('data/mnist_png/9cv/599.png'),\n",
       " PosixPath('data/mnist_png/9cv/414.png'),\n",
       " PosixPath('data/mnist_png/9cv/501.png'),\n",
       " PosixPath('data/mnist_png/9cv/598.png'),\n",
       " PosixPath('data/mnist_png/9cv/292.png'),\n",
       " PosixPath('data/mnist_png/9cv/284.png'),\n",
       " PosixPath('data/mnist_png/9cv/322.png'),\n",
       " PosixPath('data/mnist_png/9cv/496.png'),\n",
       " PosixPath('data/mnist_png/9cv/479.png'),\n",
       " PosixPath('data/mnist_png/9cv/448.png')]"
      ]
     },
     "execution_count": 124,
     "metadata": {},
     "output_type": "execute_result"
    }
   ],
   "source": [
    "lst_9cv"
   ]
  },
  {
   "cell_type": "code",
   "execution_count": 142,
   "metadata": {},
   "outputs": [],
   "source": [
    "gt = [1]*len(lst_9cv)"
   ]
  },
  {
   "cell_type": "code",
   "execution_count": 144,
   "metadata": {
    "scrolled": false
   },
   "outputs": [
    {
     "data": {
      "text/plain": [
       "40"
      ]
     },
     "execution_count": 144,
     "metadata": {},
     "output_type": "execute_result"
    }
   ],
   "source": [
    "len(gt)"
   ]
  },
  {
   "cell_type": "code",
   "execution_count": 123,
   "metadata": {
    "scrolled": true
   },
   "outputs": [],
   "source": [
    "fraud_cls = ['0','1','2','3','4','5','6','7','8']"
   ]
  },
  {
   "cell_type": "code",
   "execution_count": 136,
   "metadata": {},
   "outputs": [],
   "source": [
    "test = (path/'9cv').iterdir()\n"
   ]
  },
  {
   "cell_type": "code",
   "execution_count": 138,
   "metadata": {},
   "outputs": [
    {
     "data": {
      "text/plain": [
       "PosixPath('data/mnist_png/9cv/616.png')"
      ]
     },
     "execution_count": 138,
     "metadata": {},
     "output_type": "execute_result"
    }
   ],
   "source": [
    "next(test)"
   ]
  },
  {
   "cell_type": "code",
   "execution_count": 175,
   "metadata": {},
   "outputs": [],
   "source": [
    "def run_folder(path, Learner):\n",
    "    for i in (path).iterdir():\n",
    "        print(i)\n",
    "        Learner.predict(open_image(i))"
   ]
  },
  {
   "cell_type": "code",
   "execution_count": 177,
   "metadata": {},
   "outputs": [],
   "source": [
    "my.run_folder(path/'cv', learner)"
   ]
  },
  {
   "cell_type": "code",
   "execution_count": 217,
   "metadata": {},
   "outputs": [],
   "source": [
    "learner.callbacks[0].outputs = []\n",
    "run_folder(path/'7', learner)"
   ]
  },
  {
   "cell_type": "code",
   "execution_count": 140,
   "metadata": {},
   "outputs": [],
   "source": [
    "lst_fr = []\n",
    "nb = 2\n",
    "for cls in fraud_cls:\n",
    "    folder = (path/cls).iterdir()\n",
    "    for i in range(nb):\n",
    "        lst_fr.append(next(folder))\n",
    "        "
   ]
  },
  {
   "cell_type": "code",
   "execution_count": 141,
   "metadata": {},
   "outputs": [
    {
     "data": {
      "text/plain": [
       "[PosixPath('data/mnist_png/0/37.png'),\n",
       " PosixPath('data/mnist_png/0/56.png'),\n",
       " PosixPath('data/mnist_png/1/3.png'),\n",
       " PosixPath('data/mnist_png/1/23.png'),\n",
       " PosixPath('data/mnist_png/2/117.png'),\n",
       " PosixPath('data/mnist_png/2/28.png'),\n",
       " PosixPath('data/mnist_png/3/30.png'),\n",
       " PosixPath('data/mnist_png/3/44.png'),\n",
       " PosixPath('data/mnist_png/4/53.png'),\n",
       " PosixPath('data/mnist_png/4/2.png'),\n",
       " PosixPath('data/mnist_png/5/138.png'),\n",
       " PosixPath('data/mnist_png/5/65.png'),\n",
       " PosixPath('data/mnist_png/6/18.png'),\n",
       " PosixPath('data/mnist_png/6/90.png'),\n",
       " PosixPath('data/mnist_png/7/1338.png'),\n",
       " PosixPath('data/mnist_png/7/1106.png'),\n",
       " PosixPath('data/mnist_png/8/94.png'),\n",
       " PosixPath('data/mnist_png/8/137.png')]"
      ]
     },
     "execution_count": 141,
     "metadata": {},
     "output_type": "execute_result"
    }
   ],
   "source": [
    "lst_fr"
   ]
  },
  {
   "cell_type": "code",
   "execution_count": 145,
   "metadata": {},
   "outputs": [],
   "source": [
    "lst_cv = lst_9cv + lst_fr"
   ]
  },
  {
   "cell_type": "code",
   "execution_count": 146,
   "metadata": {},
   "outputs": [
    {
     "data": {
      "text/plain": [
       "58"
      ]
     },
     "execution_count": 146,
     "metadata": {},
     "output_type": "execute_result"
    }
   ],
   "source": [
    "len(lst_cv)"
   ]
  },
  {
   "cell_type": "code",
   "execution_count": 148,
   "metadata": {},
   "outputs": [],
   "source": [
    "gt = gt + [0]*len(lst_fr)"
   ]
  },
  {
   "cell_type": "code",
   "execution_count": 149,
   "metadata": {
    "scrolled": true
   },
   "outputs": [
    {
     "data": {
      "text/plain": [
       "[1,\n",
       " 1,\n",
       " 1,\n",
       " 1,\n",
       " 1,\n",
       " 1,\n",
       " 1,\n",
       " 1,\n",
       " 1,\n",
       " 1,\n",
       " 1,\n",
       " 1,\n",
       " 1,\n",
       " 1,\n",
       " 1,\n",
       " 1,\n",
       " 1,\n",
       " 1,\n",
       " 1,\n",
       " 1,\n",
       " 1,\n",
       " 1,\n",
       " 1,\n",
       " 1,\n",
       " 1,\n",
       " 1,\n",
       " 1,\n",
       " 1,\n",
       " 1,\n",
       " 1,\n",
       " 1,\n",
       " 1,\n",
       " 1,\n",
       " 1,\n",
       " 1,\n",
       " 1,\n",
       " 1,\n",
       " 1,\n",
       " 1,\n",
       " 1,\n",
       " 0,\n",
       " 0,\n",
       " 0,\n",
       " 0,\n",
       " 0,\n",
       " 0,\n",
       " 0,\n",
       " 0,\n",
       " 0,\n",
       " 0,\n",
       " 0,\n",
       " 0,\n",
       " 0,\n",
       " 0,\n",
       " 0,\n",
       " 0,\n",
       " 0,\n",
       " 0]"
      ]
     },
     "execution_count": 149,
     "metadata": {},
     "output_type": "execute_result"
    }
   ],
   "source": [
    "gt"
   ]
  },
  {
   "cell_type": "code",
   "execution_count": 179,
   "metadata": {
    "scrolled": true
   },
   "outputs": [
    {
     "data": {
      "text/plain": [
       "[PosixPath('data/mnist_png/9cv/616.png'),\n",
       " PosixPath('data/mnist_png/9cv/417.png'),\n",
       " PosixPath('data/mnist_png/9cv/560.png'),\n",
       " PosixPath('data/mnist_png/9cv/471.png'),\n",
       " PosixPath('data/mnist_png/9cv/634.png'),\n",
       " PosixPath('data/mnist_png/9cv/281.png'),\n",
       " PosixPath('data/mnist_png/9cv/593.png'),\n",
       " PosixPath('data/mnist_png/9cv/558.png'),\n",
       " PosixPath('data/mnist_png/9cv/630.png'),\n",
       " PosixPath('data/mnist_png/9cv/320.png'),\n",
       " PosixPath('data/mnist_png/9cv/521.png'),\n",
       " PosixPath('data/mnist_png/9cv/627.png'),\n",
       " PosixPath('data/mnist_png/9cv/562.png'),\n",
       " PosixPath('data/mnist_png/9cv/488.png'),\n",
       " PosixPath('data/mnist_png/9cv/426.png'),\n",
       " PosixPath('data/mnist_png/9cv/394.png'),\n",
       " PosixPath('data/mnist_png/9cv/336.png'),\n",
       " PosixPath('data/mnist_png/9cv/530.png'),\n",
       " PosixPath('data/mnist_png/9cv/487.png'),\n",
       " PosixPath('data/mnist_png/9cv/662.png'),\n",
       " PosixPath('data/mnist_png/9cv/639.png'),\n",
       " PosixPath('data/mnist_png/9cv/274.png'),\n",
       " PosixPath('data/mnist_png/9cv/434.png'),\n",
       " PosixPath('data/mnist_png/9cv/389.png'),\n",
       " PosixPath('data/mnist_png/9cv/575.png'),\n",
       " PosixPath('data/mnist_png/9cv/454.png'),\n",
       " PosixPath('data/mnist_png/9cv/315.png'),\n",
       " PosixPath('data/mnist_png/9cv/359.png'),\n",
       " PosixPath('data/mnist_png/9cv/422.png'),\n",
       " PosixPath('data/mnist_png/9cv/481.png'),\n",
       " PosixPath('data/mnist_png/9cv/599.png'),\n",
       " PosixPath('data/mnist_png/9cv/414.png'),\n",
       " PosixPath('data/mnist_png/9cv/501.png'),\n",
       " PosixPath('data/mnist_png/9cv/598.png'),\n",
       " PosixPath('data/mnist_png/9cv/292.png'),\n",
       " PosixPath('data/mnist_png/9cv/284.png'),\n",
       " PosixPath('data/mnist_png/9cv/322.png'),\n",
       " PosixPath('data/mnist_png/9cv/496.png'),\n",
       " PosixPath('data/mnist_png/9cv/479.png'),\n",
       " PosixPath('data/mnist_png/9cv/448.png'),\n",
       " PosixPath('data/mnist_png/0/37.png'),\n",
       " PosixPath('data/mnist_png/0/56.png'),\n",
       " PosixPath('data/mnist_png/1/3.png'),\n",
       " PosixPath('data/mnist_png/1/23.png'),\n",
       " PosixPath('data/mnist_png/2/117.png'),\n",
       " PosixPath('data/mnist_png/2/28.png'),\n",
       " PosixPath('data/mnist_png/3/30.png'),\n",
       " PosixPath('data/mnist_png/3/44.png'),\n",
       " PosixPath('data/mnist_png/4/53.png'),\n",
       " PosixPath('data/mnist_png/4/2.png'),\n",
       " PosixPath('data/mnist_png/5/138.png'),\n",
       " PosixPath('data/mnist_png/5/65.png'),\n",
       " PosixPath('data/mnist_png/6/18.png'),\n",
       " PosixPath('data/mnist_png/6/90.png'),\n",
       " PosixPath('data/mnist_png/7/1338.png'),\n",
       " PosixPath('data/mnist_png/7/1106.png'),\n",
       " PosixPath('data/mnist_png/8/94.png'),\n",
       " PosixPath('data/mnist_png/8/137.png')]"
      ]
     },
     "execution_count": 179,
     "metadata": {},
     "output_type": "execute_result"
    }
   ],
   "source": [
    "lst_cv"
   ]
  },
  {
   "cell_type": "code",
   "execution_count": 203,
   "metadata": {},
   "outputs": [],
   "source": [
    "learner.callbacks[0].outputs = []\n",
    "for i in lst_fr:\n",
    "    learner.predict(open_image(i))"
   ]
  },
  {
   "cell_type": "code",
   "execution_count": 218,
   "metadata": {},
   "outputs": [],
   "source": [
    "testcv = learner.callbacks[0].outputs"
   ]
  },
  {
   "cell_type": "code",
   "execution_count": 219,
   "metadata": {},
   "outputs": [],
   "source": [
    "ref_cv = np.array([], dtype=np.int64).reshape(0,48)\n",
    "for row in testcv:\n",
    "    ref_cv = np.vstack([ref_cv, row])"
   ]
  },
  {
   "cell_type": "code",
   "execution_count": 220,
   "metadata": {},
   "outputs": [
    {
     "data": {
      "text/plain": [
       "(10, 48)"
      ]
     },
     "execution_count": 220,
     "metadata": {},
     "output_type": "execute_result"
    }
   ],
   "source": [
    "ref_cv.shape"
   ]
  },
  {
   "cell_type": "code",
   "execution_count": 221,
   "metadata": {},
   "outputs": [],
   "source": [
    "mu, sigma = estimateGaussian(ref)\n",
    "p = multivariateGaussian(ref,mu,sigma)\n",
    "\n",
    "p_cv = multivariateGaussian(ref_cv,mu,sigma)\n",
    "\n"
   ]
  },
  {
   "cell_type": "code",
   "execution_count": 215,
   "metadata": {},
   "outputs": [
    {
     "data": {
      "text/plain": [
       "[PosixPath('data/mnist_png/0/37.png'),\n",
       " PosixPath('data/mnist_png/0/56.png'),\n",
       " PosixPath('data/mnist_png/1/3.png'),\n",
       " PosixPath('data/mnist_png/1/23.png'),\n",
       " PosixPath('data/mnist_png/2/117.png'),\n",
       " PosixPath('data/mnist_png/2/28.png'),\n",
       " PosixPath('data/mnist_png/3/30.png'),\n",
       " PosixPath('data/mnist_png/3/44.png'),\n",
       " PosixPath('data/mnist_png/4/53.png'),\n",
       " PosixPath('data/mnist_png/4/2.png'),\n",
       " PosixPath('data/mnist_png/5/138.png'),\n",
       " PosixPath('data/mnist_png/5/65.png'),\n",
       " PosixPath('data/mnist_png/6/18.png'),\n",
       " PosixPath('data/mnist_png/6/90.png'),\n",
       " PosixPath('data/mnist_png/7/1338.png'),\n",
       " PosixPath('data/mnist_png/7/1106.png'),\n",
       " PosixPath('data/mnist_png/8/94.png'),\n",
       " PosixPath('data/mnist_png/8/137.png')]"
      ]
     },
     "execution_count": 215,
     "metadata": {},
     "output_type": "execute_result"
    }
   ],
   "source": [
    "lst_fr"
   ]
  },
  {
   "cell_type": "code",
   "execution_count": 226,
   "metadata": {},
   "outputs": [
    {
     "data": {
      "text/plain": [
       "2.540722073139682e+37"
      ]
     },
     "execution_count": 226,
     "metadata": {},
     "output_type": "execute_result"
    }
   ],
   "source": [
    "np.mean(p)"
   ]
  },
  {
   "cell_type": "code",
   "execution_count": 225,
   "metadata": {},
   "outputs": [
    {
     "data": {
      "text/plain": [
       "1.5581340408273888e+35"
      ]
     },
     "execution_count": 225,
     "metadata": {},
     "output_type": "execute_result"
    }
   ],
   "source": [
    "np.mean(p_cv)"
   ]
  },
  {
   "cell_type": "code",
   "execution_count": 212,
   "metadata": {},
   "outputs": [
    {
     "data": {
      "text/plain": [
       "(0.0, 2.6962014171098693e+34)"
      ]
     },
     "execution_count": 212,
     "metadata": {},
     "output_type": "execute_result"
    }
   ],
   "source": [
    "min(p_cv), max(p_cv)"
   ]
  },
  {
   "cell_type": "code",
   "execution_count": 192,
   "metadata": {
    "scrolled": true
   },
   "outputs": [
    {
     "data": {
      "text/plain": [
       "[1,\n",
       " 1,\n",
       " 1,\n",
       " 1,\n",
       " 1,\n",
       " 1,\n",
       " 1,\n",
       " 1,\n",
       " 1,\n",
       " 1,\n",
       " 1,\n",
       " 1,\n",
       " 1,\n",
       " 1,\n",
       " 1,\n",
       " 1,\n",
       " 1,\n",
       " 1,\n",
       " 1,\n",
       " 1,\n",
       " 1,\n",
       " 1,\n",
       " 1,\n",
       " 1,\n",
       " 1,\n",
       " 1,\n",
       " 1,\n",
       " 1,\n",
       " 1,\n",
       " 1,\n",
       " 1,\n",
       " 1,\n",
       " 1,\n",
       " 1,\n",
       " 1,\n",
       " 1,\n",
       " 1,\n",
       " 1,\n",
       " 1,\n",
       " 1,\n",
       " 0,\n",
       " 0,\n",
       " 0,\n",
       " 0,\n",
       " 0,\n",
       " 0,\n",
       " 0,\n",
       " 0,\n",
       " 0,\n",
       " 0,\n",
       " 0,\n",
       " 0,\n",
       " 0,\n",
       " 0,\n",
       " 0,\n",
       " 0,\n",
       " 0,\n",
       " 0]"
      ]
     },
     "execution_count": 192,
     "metadata": {},
     "output_type": "execute_result"
    }
   ],
   "source": [
    "gt"
   ]
  },
  {
   "cell_type": "code",
   "execution_count": 201,
   "metadata": {},
   "outputs": [
    {
     "data": {
      "text/plain": [
       "(1.2083553373869706e+21, 1.0168696785731582e+39)"
      ]
     },
     "execution_count": 201,
     "metadata": {},
     "output_type": "execute_result"
    }
   ],
   "source": [
    "min(p), max(p)"
   ]
  },
  {
   "cell_type": "code",
   "execution_count": 202,
   "metadata": {},
   "outputs": [
    {
     "data": {
      "text/plain": [
       "(0.0, 1.6592847458781519e+38)"
      ]
     },
     "execution_count": 202,
     "metadata": {},
     "output_type": "execute_result"
    }
   ],
   "source": [
    "min(p_cv),max(p_cv)"
   ]
  },
  {
   "cell_type": "code",
   "execution_count": 197,
   "metadata": {},
   "outputs": [
    {
     "name": "stdout",
     "output_type": "stream",
     "text": [
      "> <ipython-input-196-40c69b282adf>(3)selectThresholdByCV()\n",
      "-> best_epsilon = 0\n",
      "(Pdb) n\n",
      "> <ipython-input-196-40c69b282adf>(4)selectThresholdByCV()\n",
      "-> best_f1 = 0\n",
      "(Pdb) n\n",
      "> <ipython-input-196-40c69b282adf>(5)selectThresholdByCV()\n",
      "-> f = 0\n",
      "(Pdb) n\n",
      "> <ipython-input-196-40c69b282adf>(6)selectThresholdByCV()\n",
      "-> stepsize = (max(probs) - min(probs)) / 1000;\n",
      "(Pdb) n\n",
      "> <ipython-input-196-40c69b282adf>(7)selectThresholdByCV()\n",
      "-> epsilons = np.arange(min(probs),max(probs),stepsize)\n",
      "(Pdb) stepsize\n",
      "1.6592847458781519e+35\n",
      "(Pdb) q\n"
     ]
    },
    {
     "ename": "BdbQuit",
     "evalue": "",
     "output_type": "error",
     "traceback": [
      "\u001b[0;31m---------------------------------------------------------------------------\u001b[0m",
      "\u001b[0;31mBdbQuit\u001b[0m                                   Traceback (most recent call last)",
      "\u001b[0;32m<ipython-input-197-4d36427483c7>\u001b[0m in \u001b[0;36m<module>\u001b[0;34m()\u001b[0m\n\u001b[0;32m----> 1\u001b[0;31m \u001b[0mfscore\u001b[0m\u001b[0;34m,\u001b[0m \u001b[0mep\u001b[0m \u001b[0;34m=\u001b[0m \u001b[0mselectThresholdByCV\u001b[0m\u001b[0;34m(\u001b[0m\u001b[0mp_cv\u001b[0m\u001b[0;34m,\u001b[0m\u001b[0mgt\u001b[0m\u001b[0;34m)\u001b[0m\u001b[0;34m\u001b[0m\u001b[0m\n\u001b[0m\u001b[1;32m      2\u001b[0m \u001b[0moutliers\u001b[0m \u001b[0;34m=\u001b[0m \u001b[0mnp\u001b[0m\u001b[0;34m.\u001b[0m\u001b[0masarray\u001b[0m\u001b[0;34m(\u001b[0m\u001b[0mnp\u001b[0m\u001b[0;34m.\u001b[0m\u001b[0mwhere\u001b[0m\u001b[0;34m(\u001b[0m\u001b[0mp\u001b[0m \u001b[0;34m<\u001b[0m \u001b[0mep\u001b[0m\u001b[0;34m)\u001b[0m\u001b[0;34m)\u001b[0m\u001b[0;34m\u001b[0m\u001b[0m\n",
      "\u001b[0;32m<ipython-input-196-40c69b282adf>\u001b[0m in \u001b[0;36mselectThresholdByCV\u001b[0;34m(probs, gt)\u001b[0m\n\u001b[1;32m      5\u001b[0m     \u001b[0mf\u001b[0m \u001b[0;34m=\u001b[0m \u001b[0;36m0\u001b[0m\u001b[0;34m\u001b[0m\u001b[0m\n\u001b[1;32m      6\u001b[0m     \u001b[0mstepsize\u001b[0m \u001b[0;34m=\u001b[0m \u001b[0;34m(\u001b[0m\u001b[0mmax\u001b[0m\u001b[0;34m(\u001b[0m\u001b[0mprobs\u001b[0m\u001b[0;34m)\u001b[0m \u001b[0;34m-\u001b[0m \u001b[0mmin\u001b[0m\u001b[0;34m(\u001b[0m\u001b[0mprobs\u001b[0m\u001b[0;34m)\u001b[0m\u001b[0;34m)\u001b[0m \u001b[0;34m/\u001b[0m \u001b[0;36m1000\u001b[0m\u001b[0;34m;\u001b[0m\u001b[0;34m\u001b[0m\u001b[0m\n\u001b[0;32m----> 7\u001b[0;31m     \u001b[0mepsilons\u001b[0m \u001b[0;34m=\u001b[0m \u001b[0mnp\u001b[0m\u001b[0;34m.\u001b[0m\u001b[0marange\u001b[0m\u001b[0;34m(\u001b[0m\u001b[0mmin\u001b[0m\u001b[0;34m(\u001b[0m\u001b[0mprobs\u001b[0m\u001b[0;34m)\u001b[0m\u001b[0;34m,\u001b[0m\u001b[0mmax\u001b[0m\u001b[0;34m(\u001b[0m\u001b[0mprobs\u001b[0m\u001b[0;34m)\u001b[0m\u001b[0;34m,\u001b[0m\u001b[0mstepsize\u001b[0m\u001b[0;34m)\u001b[0m\u001b[0;34m\u001b[0m\u001b[0m\n\u001b[0m\u001b[1;32m      8\u001b[0m     \u001b[0;32mfor\u001b[0m \u001b[0mepsilon\u001b[0m \u001b[0;32min\u001b[0m \u001b[0mnp\u001b[0m\u001b[0;34m.\u001b[0m\u001b[0mnditer\u001b[0m\u001b[0;34m(\u001b[0m\u001b[0mepsilons\u001b[0m\u001b[0;34m)\u001b[0m\u001b[0;34m:\u001b[0m\u001b[0;34m\u001b[0m\u001b[0m\n\u001b[1;32m      9\u001b[0m         \u001b[0mpredictions\u001b[0m \u001b[0;34m=\u001b[0m \u001b[0;34m(\u001b[0m\u001b[0mprobs\u001b[0m \u001b[0;34m<\u001b[0m \u001b[0mepsilon\u001b[0m\u001b[0;34m)\u001b[0m\u001b[0;34m\u001b[0m\u001b[0m\n",
      "\u001b[0;32m<ipython-input-196-40c69b282adf>\u001b[0m in \u001b[0;36mselectThresholdByCV\u001b[0;34m(probs, gt)\u001b[0m\n\u001b[1;32m      5\u001b[0m     \u001b[0mf\u001b[0m \u001b[0;34m=\u001b[0m \u001b[0;36m0\u001b[0m\u001b[0;34m\u001b[0m\u001b[0m\n\u001b[1;32m      6\u001b[0m     \u001b[0mstepsize\u001b[0m \u001b[0;34m=\u001b[0m \u001b[0;34m(\u001b[0m\u001b[0mmax\u001b[0m\u001b[0;34m(\u001b[0m\u001b[0mprobs\u001b[0m\u001b[0;34m)\u001b[0m \u001b[0;34m-\u001b[0m \u001b[0mmin\u001b[0m\u001b[0;34m(\u001b[0m\u001b[0mprobs\u001b[0m\u001b[0;34m)\u001b[0m\u001b[0;34m)\u001b[0m \u001b[0;34m/\u001b[0m \u001b[0;36m1000\u001b[0m\u001b[0;34m;\u001b[0m\u001b[0;34m\u001b[0m\u001b[0m\n\u001b[0;32m----> 7\u001b[0;31m     \u001b[0mepsilons\u001b[0m \u001b[0;34m=\u001b[0m \u001b[0mnp\u001b[0m\u001b[0;34m.\u001b[0m\u001b[0marange\u001b[0m\u001b[0;34m(\u001b[0m\u001b[0mmin\u001b[0m\u001b[0;34m(\u001b[0m\u001b[0mprobs\u001b[0m\u001b[0;34m)\u001b[0m\u001b[0;34m,\u001b[0m\u001b[0mmax\u001b[0m\u001b[0;34m(\u001b[0m\u001b[0mprobs\u001b[0m\u001b[0;34m)\u001b[0m\u001b[0;34m,\u001b[0m\u001b[0mstepsize\u001b[0m\u001b[0;34m)\u001b[0m\u001b[0;34m\u001b[0m\u001b[0m\n\u001b[0m\u001b[1;32m      8\u001b[0m     \u001b[0;32mfor\u001b[0m \u001b[0mepsilon\u001b[0m \u001b[0;32min\u001b[0m \u001b[0mnp\u001b[0m\u001b[0;34m.\u001b[0m\u001b[0mnditer\u001b[0m\u001b[0;34m(\u001b[0m\u001b[0mepsilons\u001b[0m\u001b[0;34m)\u001b[0m\u001b[0;34m:\u001b[0m\u001b[0;34m\u001b[0m\u001b[0m\n\u001b[1;32m      9\u001b[0m         \u001b[0mpredictions\u001b[0m \u001b[0;34m=\u001b[0m \u001b[0;34m(\u001b[0m\u001b[0mprobs\u001b[0m \u001b[0;34m<\u001b[0m \u001b[0mepsilon\u001b[0m\u001b[0;34m)\u001b[0m\u001b[0;34m\u001b[0m\u001b[0m\n",
      "\u001b[0;32m~/anaconda3/lib/python3.6/bdb.py\u001b[0m in \u001b[0;36mtrace_dispatch\u001b[0;34m(self, frame, event, arg)\u001b[0m\n\u001b[1;32m     46\u001b[0m             \u001b[0;32mreturn\u001b[0m \u001b[0;31m# None\u001b[0m\u001b[0;34m\u001b[0m\u001b[0m\n\u001b[1;32m     47\u001b[0m         \u001b[0;32mif\u001b[0m \u001b[0mevent\u001b[0m \u001b[0;34m==\u001b[0m \u001b[0;34m'line'\u001b[0m\u001b[0;34m:\u001b[0m\u001b[0;34m\u001b[0m\u001b[0m\n\u001b[0;32m---> 48\u001b[0;31m             \u001b[0;32mreturn\u001b[0m \u001b[0mself\u001b[0m\u001b[0;34m.\u001b[0m\u001b[0mdispatch_line\u001b[0m\u001b[0;34m(\u001b[0m\u001b[0mframe\u001b[0m\u001b[0;34m)\u001b[0m\u001b[0;34m\u001b[0m\u001b[0m\n\u001b[0m\u001b[1;32m     49\u001b[0m         \u001b[0;32mif\u001b[0m \u001b[0mevent\u001b[0m \u001b[0;34m==\u001b[0m \u001b[0;34m'call'\u001b[0m\u001b[0;34m:\u001b[0m\u001b[0;34m\u001b[0m\u001b[0m\n\u001b[1;32m     50\u001b[0m             \u001b[0;32mreturn\u001b[0m \u001b[0mself\u001b[0m\u001b[0;34m.\u001b[0m\u001b[0mdispatch_call\u001b[0m\u001b[0;34m(\u001b[0m\u001b[0mframe\u001b[0m\u001b[0;34m,\u001b[0m \u001b[0marg\u001b[0m\u001b[0;34m)\u001b[0m\u001b[0;34m\u001b[0m\u001b[0m\n",
      "\u001b[0;32m~/anaconda3/lib/python3.6/bdb.py\u001b[0m in \u001b[0;36mdispatch_line\u001b[0;34m(self, frame)\u001b[0m\n\u001b[1;32m     65\u001b[0m         \u001b[0;32mif\u001b[0m \u001b[0mself\u001b[0m\u001b[0;34m.\u001b[0m\u001b[0mstop_here\u001b[0m\u001b[0;34m(\u001b[0m\u001b[0mframe\u001b[0m\u001b[0;34m)\u001b[0m \u001b[0;32mor\u001b[0m \u001b[0mself\u001b[0m\u001b[0;34m.\u001b[0m\u001b[0mbreak_here\u001b[0m\u001b[0;34m(\u001b[0m\u001b[0mframe\u001b[0m\u001b[0;34m)\u001b[0m\u001b[0;34m:\u001b[0m\u001b[0;34m\u001b[0m\u001b[0m\n\u001b[1;32m     66\u001b[0m             \u001b[0mself\u001b[0m\u001b[0;34m.\u001b[0m\u001b[0muser_line\u001b[0m\u001b[0;34m(\u001b[0m\u001b[0mframe\u001b[0m\u001b[0;34m)\u001b[0m\u001b[0;34m\u001b[0m\u001b[0m\n\u001b[0;32m---> 67\u001b[0;31m             \u001b[0;32mif\u001b[0m \u001b[0mself\u001b[0m\u001b[0;34m.\u001b[0m\u001b[0mquitting\u001b[0m\u001b[0;34m:\u001b[0m \u001b[0;32mraise\u001b[0m \u001b[0mBdbQuit\u001b[0m\u001b[0;34m\u001b[0m\u001b[0m\n\u001b[0m\u001b[1;32m     68\u001b[0m         \u001b[0;32mreturn\u001b[0m \u001b[0mself\u001b[0m\u001b[0;34m.\u001b[0m\u001b[0mtrace_dispatch\u001b[0m\u001b[0;34m\u001b[0m\u001b[0m\n\u001b[1;32m     69\u001b[0m \u001b[0;34m\u001b[0m\u001b[0m\n",
      "\u001b[0;31mBdbQuit\u001b[0m: "
     ]
    }
   ],
   "source": [
    "fscore, ep = selectThresholdByCV(p_cv,gt)\n",
    "outliers = np.asarray(np.where(p < ep))"
   ]
  },
  {
   "cell_type": "code",
   "execution_count": 195,
   "metadata": {},
   "outputs": [
    {
     "data": {
      "text/plain": [
       "array(5.24334e+37)"
      ]
     },
     "execution_count": 195,
     "metadata": {},
     "output_type": "execute_result"
    }
   ],
   "source": [
    "ep"
   ]
  },
  {
   "cell_type": "code",
   "execution_count": 28,
   "metadata": {},
   "outputs": [
    {
     "data": {
      "text/plain": [
       "0.003537031201007373"
      ]
     },
     "execution_count": 28,
     "metadata": {},
     "output_type": "execute_result"
    }
   ],
   "source": [
    "norm.pdf(1, mu, sigma)"
   ]
  },
  {
   "cell_type": "code",
   "execution_count": 33,
   "metadata": {},
   "outputs": [],
   "source": [
    "x_test = np.linspace(-2,2,num=100)"
   ]
  },
  {
   "cell_type": "code",
   "execution_count": 34,
   "metadata": {},
   "outputs": [],
   "source": [
    "y_test = [norm.pdf(x, mu, sigma) for x in x_test]"
   ]
  },
  {
   "cell_type": "code",
   "execution_count": 35,
   "metadata": {
    "scrolled": true
   },
   "outputs": [
    {
     "data": {
      "text/plain": [
       "[1.2313639640683315e-19,\n",
       " 6.203652633301534e-19,\n",
       " 3.032398622966197e-18,\n",
       " 1.4381457298393304e-17,\n",
       " 6.617550863370097e-17,\n",
       " 2.954401169376176e-16,\n",
       " 1.2797331843028765e-15,\n",
       " 5.3783267484499e-15,\n",
       " 2.1930711489195375e-14,\n",
       " 8.676329691100449e-14,\n",
       " 3.330405827343597e-13,\n",
       " 1.240326594589367e-12,\n",
       " 4.4818027663505e-12,\n",
       " 1.5712569493069668e-11,\n",
       " 5.344652448523922e-11,\n",
       " 1.7638819396284333e-10,\n",
       " 5.648034546024936e-10,\n",
       " 1.7547003465915293e-09,\n",
       " 5.289155871966401e-09,\n",
       " 1.546847702239185e-08,\n",
       " 4.389211756022165e-08,\n",
       " 1.208379357008654e-07,\n",
       " 3.227734824214951e-07,\n",
       " 8.365081658545273e-07,\n",
       " 2.1033924385742552e-06,\n",
       " 5.131545906797913e-06,\n",
       " 1.2146577210581658e-05,\n",
       " 2.7895708643064798e-05,\n",
       " 6.215823416748858e-05,\n",
       " 0.00013438095546839432,\n",
       " 0.0002818737073993675,\n",
       " 0.0005736529050447223,\n",
       " 0.0011327175082888462,\n",
       " 0.0021700603713537274,\n",
       " 0.004033664802071696,\n",
       " 0.007274540755729477,\n",
       " 0.012728849272003372,\n",
       " 0.021609787332499786,\n",
       " 0.035595051738862515,\n",
       " 0.05688615113003549,\n",
       " 0.0882066360327749,\n",
       " 0.1327008653493135,\n",
       " 0.1936975095672446,\n",
       " 0.2743166101818549,\n",
       " 0.3769276185004256,\n",
       " 0.5025064056303064,\n",
       " 0.6499845452664427,\n",
       " 0.8157221314626869,\n",
       " 0.9932515393505966,\n",
       " 1.1734214824590843,\n",
       " 1.3450133947143819,\n",
       " 1.4958118539618193,\n",
       " 1.6140059014296704,\n",
       " 1.6897056360278173,\n",
       " 1.716306208875964,\n",
       " 1.6914387704134888,\n",
       " 1.617318577506783,\n",
       " 1.50041934810677,\n",
       " 1.3505402222769058,\n",
       " 1.179451743861696,\n",
       " 0.9993799155886182,\n",
       " 0.8215969988749576,\n",
       " 0.6553372550997673,\n",
       " 0.5071642795941883,\n",
       " 0.38081166622257717,\n",
       " 0.27742756999458595,\n",
       " 0.1960951162747695,\n",
       " 0.1344812459720709,\n",
       " 0.08948174756794118,\n",
       " 0.05776768672862239,\n",
       " 0.03618372574604228,\n",
       " 0.021989703613168255,\n",
       " 0.012965917535972083,\n",
       " 0.007417625809370388,\n",
       " 0.004117222842280434,\n",
       " 0.0022172854781879604,\n",
       " 0.0011585549532437906,\n",
       " 0.0005873398264514552,\n",
       " 0.0002888950159360486,\n",
       " 0.00013786957435519954,\n",
       " 6.383731419071348e-05,\n",
       " 2.867864085804322e-05,\n",
       " 1.2500296388726766e-05,\n",
       " 5.286397819972666e-06,\n",
       " 2.1690879440218043e-06,\n",
       " 8.635197309235588e-07,\n",
       " 3.3353787450357493e-07,\n",
       " 1.2499591927817093e-07,\n",
       " 4.544899659881421e-08,\n",
       " 1.6033581759650155e-08,\n",
       " 5.488006138872362e-09,\n",
       " 1.8225372476267398e-09,\n",
       " 5.872405324943018e-10,\n",
       " 1.8358340528672871e-10,\n",
       " 5.5683766724912194e-11,\n",
       " 1.6387080083094343e-11,\n",
       " 4.678992330837934e-12,\n",
       " 1.2962264441543142e-12,\n",
       " 3.4840726921974596e-13,\n",
       " 9.08597054563956e-14]"
      ]
     },
     "execution_count": 35,
     "metadata": {},
     "output_type": "execute_result"
    }
   ],
   "source": [
    "y_test"
   ]
  },
  {
   "cell_type": "code",
   "execution_count": 36,
   "metadata": {},
   "outputs": [
    {
     "data": {
      "text/plain": [
       "(-1, 2)"
      ]
     },
     "execution_count": 36,
     "metadata": {},
     "output_type": "execute_result"
    },
    {
     "data": {
      "image/png": "[encoded data removed]",
      "text/plain": [
       "<matplotlib.figure.Figure at 0x7f08f21934a8>"
      ]
     },
     "metadata": {},
     "output_type": "display_data"
    }
   ],
   "source": [
    "plt.plot(x_test, y_test)\n",
    "plt.xlim(-1,2)"
   ]
  },
  {
   "cell_type": "code",
   "execution_count": 37,
   "metadata": {
    "scrolled": true
   },
   "outputs": [
    {
     "data": {
      "text/plain": [
       "24.749999999999975"
      ]
     },
     "execution_count": 37,
     "metadata": {},
     "output_type": "execute_result"
    }
   ],
   "source": [
    "sum(y_test)"
   ]
  },
  {
   "cell_type": "code",
   "execution_count": 38,
   "metadata": {},
   "outputs": [],
   "source": [
    "y_test2 = [norm.pdf(x, mu+1, sigma+2) for x in x_test]"
   ]
  },
  {
   "cell_type": "code",
   "execution_count": 41,
   "metadata": {},
   "outputs": [
    {
     "data": {
      "text/plain": [
       "(-3, 3)"
      ]
     },
     "execution_count": 41,
     "metadata": {},
     "output_type": "execute_result"
    },
    {
     "data": {
      "image/png": "[encoded data removed]",
      "text/plain": [
       "<matplotlib.figure.Figure at 0x7f08f1ed3780>"
      ]
     },
     "metadata": {},
     "output_type": "display_data"
    }
   ],
   "source": [
    "plt.plot(x_test, y_test2)\n",
    "plt.xlim(-3,3)"
   ]
  },
  {
   "cell_type": "code",
   "execution_count": 18,
   "metadata": {},
   "outputs": [],
   "source": [
    "### Stop from here"
   ]
  },
  {
   "cell_type": "code",
   "execution_count": 18,
   "metadata": {},
   "outputs": [],
   "source": [
    "my.binary_code(learner)"
   ]
  },
  {
   "cell_type": "code",
   "execution_count": 19,
   "metadata": {},
   "outputs": [],
   "source": [
    "test = learner.callbacks[0].outputs"
   ]
  },
  {
   "cell_type": "code",
   "execution_count": 20,
   "metadata": {},
   "outputs": [],
   "source": [
    "ref9 = sum(test).float()/len(test) > 0.5"
   ]
  },
  {
   "cell_type": "code",
   "execution_count": 21,
   "metadata": {},
   "outputs": [
    {
     "data": {
      "text/plain": [
       "tensor([[0, 1, 1, 1, 1, 0, 1, 0, 1, 0, 0, 0, 1, 0, 0, 1, 1, 0, 1, 0, 0, 1, 1, 0,\n",
       "         1, 1, 0, 0, 1, 0, 1, 0, 0, 1, 0, 0, 1, 0, 0, 0, 0, 0, 0, 1, 1, 1, 1, 0]],\n",
       "       dtype=torch.uint8)"
      ]
     },
     "execution_count": 21,
     "metadata": {},
     "output_type": "execute_result"
    }
   ],
   "source": [
    "ref9"
   ]
  },
  {
   "cell_type": "code",
   "execution_count": 131,
   "metadata": {},
   "outputs": [
    {
     "name": "stdout",
     "output_type": "stream",
     "text": [
      "tensor(0.7708)\n",
      "tensor(0.8333)\n",
      "tensor(0.8750)\n",
      "tensor(0.7708)\n",
      "tensor(0.6875)\n",
      "tensor(0.7292)\n",
      "tensor(0.7917)\n",
      "tensor(0.7083)\n",
      "tensor(0.7292)\n",
      "tensor(0.7292)\n",
      "tensor(0.6042)\n",
      "tensor(0.7500)\n",
      "tensor(0.7708)\n",
      "tensor(0.7083)\n",
      "tensor(0.7500)\n",
      "tensor(0.7292)\n",
      "tensor(0.7083)\n",
      "tensor(0.6875)\n",
      "tensor(0.6667)\n",
      "tensor(0.6875)\n"
     ]
    }
   ],
   "source": [
    "\n",
    "for i in range(0,len(learner.callbacks[0].outputs)):\n",
    "    print(my.similarity(learner.callbacks[0].outputs[i][0], ref9))\n",
    "    "
   ]
  },
  {
   "cell_type": "code",
   "execution_count": 22,
   "metadata": {},
   "outputs": [],
   "source": [
    "def test_accu(path):\n",
    "    learner.callbacks[0].outputs = []\n",
    "    my.run_folder(path, learner)\n",
    "    my.binary_code(learner)\n",
    "    avg_accu = 0\n",
    "    for i in range(0,len(learner.callbacks[0].outputs)):\n",
    "        print(my.similarity(learner.callbacks[0].outputs[i][0], ref9))\n",
    "        avg_accu += my.similarity(learner.callbacks[0].outputs[i][0], ref9)\n",
    "    print('avg_accu: ' + str(avg_accu/len(learner.callbacks[0].outputs)))"
   ]
  },
  {
   "cell_type": "code",
   "execution_count": 32,
   "metadata": {},
   "outputs": [
    {
     "name": "stdout",
     "output_type": "stream",
     "text": [
      "tensor(0.3958)\n",
      "tensor(0.4167)\n",
      "tensor(0.4167)\n",
      "tensor(0.4167)\n",
      "tensor(0.4375)\n",
      "tensor(0.4167)\n",
      "tensor(0.4167)\n",
      "tensor(0.4167)\n",
      "tensor(0.3958)\n",
      "tensor(0.4375)\n",
      "avg_accu: tensor(0.4167)\n"
     ]
    }
   ],
   "source": [
    "test_accu(path/'0')"
   ]
  },
  {
   "cell_type": "code",
   "execution_count": 23,
   "metadata": {},
   "outputs": [
    {
     "name": "stdout",
     "output_type": "stream",
     "text": [
      "tensor(0.3958)\n",
      "tensor(0.3958)\n",
      "tensor(0.3958)\n",
      "tensor(0.3750)\n",
      "tensor(0.3958)\n",
      "tensor(0.3958)\n",
      "tensor(0.3958)\n",
      "tensor(0.8125)\n",
      "tensor(0.3958)\n",
      "tensor(0.4167)\n",
      "avg_accu: tensor(0.4375)\n"
     ]
    }
   ],
   "source": [
    "test_accu(path/'1')"
   ]
  },
  {
   "cell_type": "code",
   "execution_count": 24,
   "metadata": {},
   "outputs": [
    {
     "name": "stdout",
     "output_type": "stream",
     "text": [
      "tensor(0.5625)\n",
      "tensor(0.5417)\n",
      "tensor(0.5417)\n",
      "tensor(0.5417)\n",
      "tensor(0.5417)\n",
      "tensor(0.5417)\n",
      "tensor(0.5625)\n",
      "tensor(0.5417)\n",
      "tensor(0.5417)\n",
      "tensor(0.5417)\n",
      "avg_accu: tensor(0.5458)\n"
     ]
    }
   ],
   "source": [
    "test_accu(path/'2')"
   ]
  },
  {
   "cell_type": "code",
   "execution_count": 25,
   "metadata": {},
   "outputs": [
    {
     "name": "stdout",
     "output_type": "stream",
     "text": [
      "tensor(0.4792)\n",
      "tensor(0.5000)\n",
      "tensor(0.5000)\n",
      "tensor(0.4792)\n",
      "tensor(0.4792)\n",
      "tensor(0.5000)\n",
      "tensor(0.4792)\n",
      "tensor(0.4792)\n",
      "tensor(0.5208)\n",
      "tensor(0.5000)\n",
      "avg_accu: tensor(0.4917)\n"
     ]
    }
   ],
   "source": [
    "test_accu(path/'3')"
   ]
  },
  {
   "cell_type": "code",
   "execution_count": 26,
   "metadata": {},
   "outputs": [
    {
     "name": "stdout",
     "output_type": "stream",
     "text": [
      "tensor(0.6250)\n",
      "tensor(0.6042)\n",
      "tensor(0.6042)\n",
      "tensor(0.6042)\n",
      "tensor(0.6042)\n",
      "tensor(0.6042)\n",
      "tensor(0.6042)\n",
      "tensor(0.6042)\n",
      "tensor(0.6042)\n",
      "tensor(0.6042)\n",
      "avg_accu: tensor(0.6062)\n"
     ]
    }
   ],
   "source": [
    "test_accu(path/'4')"
   ]
  },
  {
   "cell_type": "code",
   "execution_count": 27,
   "metadata": {},
   "outputs": [
    {
     "name": "stdout",
     "output_type": "stream",
     "text": [
      "tensor(0.4375)\n",
      "tensor(0.4167)\n",
      "tensor(0.4583)\n",
      "tensor(0.4583)\n",
      "tensor(0.4167)\n",
      "tensor(0.4583)\n",
      "tensor(0.4792)\n",
      "tensor(0.4583)\n",
      "tensor(0.4583)\n",
      "tensor(0.4167)\n",
      "avg_accu: tensor(0.4458)\n"
     ]
    }
   ],
   "source": [
    "test_accu(path/'5')"
   ]
  },
  {
   "cell_type": "code",
   "execution_count": 28,
   "metadata": {},
   "outputs": [
    {
     "name": "stdout",
     "output_type": "stream",
     "text": [
      "tensor(0.2917)\n",
      "tensor(0.3125)\n",
      "tensor(0.3125)\n",
      "tensor(0.2917)\n",
      "tensor(0.3125)\n",
      "tensor(0.3125)\n",
      "tensor(0.3125)\n",
      "tensor(0.3125)\n",
      "tensor(0.3125)\n",
      "tensor(0.3125)\n",
      "avg_accu: tensor(0.3083)\n"
     ]
    }
   ],
   "source": [
    "test_accu(path/'6')"
   ]
  },
  {
   "cell_type": "code",
   "execution_count": 29,
   "metadata": {},
   "outputs": [
    {
     "name": "stdout",
     "output_type": "stream",
     "text": [
      "tensor(0.9375)\n",
      "tensor(0.9167)\n",
      "tensor(0.9167)\n",
      "tensor(0.9167)\n",
      "tensor(0.9167)\n",
      "tensor(0.8958)\n",
      "tensor(0.7500)\n",
      "tensor(0.9167)\n",
      "tensor(0.9167)\n",
      "tensor(0.9167)\n",
      "avg_accu: tensor(0.9000)\n"
     ]
    }
   ],
   "source": [
    "test_accu(path/'7')"
   ]
  },
  {
   "cell_type": "code",
   "execution_count": 30,
   "metadata": {},
   "outputs": [
    {
     "name": "stdout",
     "output_type": "stream",
     "text": [
      "tensor(0.5417)\n",
      "tensor(0.9375)\n",
      "tensor(0.5208)\n",
      "tensor(0.5208)\n",
      "tensor(0.5417)\n",
      "tensor(0.5208)\n",
      "tensor(0.5000)\n",
      "tensor(0.4583)\n",
      "tensor(0.8333)\n",
      "tensor(0.3750)\n",
      "avg_accu: tensor(0.5750)\n"
     ]
    }
   ],
   "source": [
    "test_accu(path/'8')"
   ]
  },
  {
   "cell_type": "code",
   "execution_count": 31,
   "metadata": {
    "scrolled": true
   },
   "outputs": [
    {
     "name": "stdout",
     "output_type": "stream",
     "text": [
      "tensor(0.9583)\n",
      "tensor(0.4792)\n",
      "tensor(0.7708)\n",
      "tensor(0.9167)\n",
      "tensor(0.9583)\n",
      "tensor(0.7500)\n",
      "tensor(0.9167)\n",
      "tensor(0.9792)\n",
      "tensor(0.9167)\n",
      "tensor(0.6875)\n",
      "tensor(0.9167)\n",
      "tensor(0.9167)\n",
      "tensor(0.9167)\n",
      "tensor(0.8750)\n",
      "tensor(0.9167)\n",
      "tensor(0.9167)\n",
      "tensor(0.9375)\n",
      "tensor(0.9375)\n",
      "tensor(0.9167)\n",
      "tensor(0.8333)\n",
      "tensor(0.7292)\n",
      "tensor(0.7292)\n",
      "tensor(0.7292)\n",
      "tensor(0.9583)\n",
      "tensor(0.6875)\n",
      "tensor(0.9375)\n",
      "tensor(0.7083)\n",
      "tensor(0.6250)\n",
      "tensor(0.8125)\n",
      "tensor(0.9375)\n",
      "tensor(0.9792)\n",
      "tensor(0.8125)\n",
      "tensor(1.)\n",
      "tensor(0.9583)\n",
      "tensor(1.)\n",
      "tensor(0.8542)\n",
      "tensor(0.8958)\n",
      "tensor(0.9167)\n",
      "tensor(0.9167)\n",
      "tensor(0.8333)\n",
      "tensor(0.9583)\n",
      "tensor(0.8750)\n",
      "tensor(0.8958)\n",
      "tensor(0.4583)\n",
      "tensor(0.9375)\n",
      "tensor(0.6042)\n",
      "tensor(0.9583)\n",
      "tensor(0.4792)\n",
      "tensor(0.8958)\n",
      "tensor(0.7917)\n",
      "tensor(0.7917)\n",
      "tensor(0.9167)\n",
      "tensor(0.8333)\n",
      "tensor(0.8125)\n",
      "tensor(0.9167)\n",
      "tensor(0.9583)\n",
      "tensor(0.8542)\n",
      "tensor(0.6667)\n",
      "tensor(0.9167)\n",
      "tensor(0.8958)\n",
      "tensor(0.9167)\n",
      "tensor(0.9792)\n",
      "tensor(0.5833)\n",
      "tensor(0.9583)\n",
      "tensor(0.6875)\n",
      "tensor(0.9167)\n",
      "tensor(0.9375)\n",
      "tensor(0.8542)\n",
      "tensor(0.9375)\n",
      "tensor(0.4792)\n",
      "tensor(0.8542)\n",
      "tensor(1.)\n",
      "tensor(0.9167)\n",
      "tensor(0.9167)\n",
      "tensor(0.8750)\n",
      "tensor(0.6667)\n",
      "tensor(0.9375)\n",
      "tensor(0.5208)\n",
      "tensor(0.9375)\n",
      "tensor(0.9375)\n",
      "tensor(0.8958)\n",
      "tensor(0.9375)\n",
      "tensor(0.6667)\n",
      "tensor(0.9167)\n",
      "tensor(0.9167)\n",
      "tensor(0.6250)\n",
      "tensor(0.9167)\n",
      "tensor(0.8750)\n",
      "tensor(0.9375)\n",
      "tensor(0.7500)\n",
      "tensor(0.8542)\n",
      "tensor(0.7500)\n",
      "tensor(0.6458)\n",
      "tensor(0.9167)\n",
      "tensor(0.5417)\n",
      "tensor(0.7500)\n",
      "tensor(0.9375)\n",
      "tensor(0.9167)\n",
      "tensor(0.6250)\n",
      "avg_accu: tensor(0.8388)\n"
     ]
    }
   ],
   "source": [
    "test_accu(path/'9')"
   ]
  },
  {
   "cell_type": "code",
   "execution_count": null,
   "metadata": {},
   "outputs": [],
   "source": []
  }
 ],
 "metadata": {
  "kernelspec": {
   "display_name": "Python 3",
   "language": "python",
   "name": "python3"
  },
  "language_info": {
   "codemirror_mode": {
    "name": "ipython",
    "version": 3
   },
   "file_extension": ".py",
   "mimetype": "text/x-python",
   "name": "python",
   "nbconvert_exporter": "python",
   "pygments_lexer": "ipython3",
   "version": "3.6.4"
  }
 },
 "nbformat": 4,
 "nbformat_minor": 2
}
